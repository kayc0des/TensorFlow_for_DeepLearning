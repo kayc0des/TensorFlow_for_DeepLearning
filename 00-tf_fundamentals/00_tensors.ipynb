{
  "nbformat": 4,
  "nbformat_minor": 0,
  "metadata": {
    "colab": {
      "provenance": [],
      "authorship_tag": "ABX9TyPWBAeewzD88qUodc9T0S9W",
      "include_colab_link": true
    },
    "kernelspec": {
      "name": "python3",
      "display_name": "Python 3"
    },
    "language_info": {
      "name": "python"
    }
  },
  "cells": [
    {
      "cell_type": "markdown",
      "metadata": {
        "id": "view-in-github",
        "colab_type": "text"
      },
      "source": [
        "<a href=\"https://colab.research.google.com/github/kayc0des/TensorFlow_for_DeepLearning/blob/main/00-tf_fundamentals%20/00_tensors.ipynb\" target=\"_parent\"><img src=\"https://colab.research.google.com/assets/colab-badge.svg\" alt=\"Open In Colab\"/></a>"
      ]
    },
    {
      "cell_type": "markdown",
      "source": [
        "In this notebook, we are going to cover some of the most basic fundamental concepts of tensors using TensorFlow\n",
        "\n",
        "Outline:\n",
        "- Introduction to tensors\n",
        "- Getting information from tensors\n",
        "- Manipulating tensors\n",
        "- Tensors & Numpy\n",
        "- Using @tf.function\n",
        "- Using GPUs with TensorFlow (or TPUs)\n",
        "- Exercises\n"
      ],
      "metadata": {
        "id": "sm6hAEAL0S9G"
      }
    },
    {
      "cell_type": "markdown",
      "source": [
        "# Introduction to Tensors\n",
        "\n",
        "In this notebook we will be creating tensors using TensorFlow's tf.constant function.\n",
        "\n",
        "- tf.constant(): Creates a constant tensor from a tensor-like object.\n",
        "\n",
        "[Documentation](https://www.tensorflow.org/api_docs/python/tf/constant)"
      ],
      "metadata": {
        "id": "h3NIgJN-1Mzu"
      }
    },
    {
      "cell_type": "code",
      "execution_count": 1,
      "metadata": {
        "colab": {
          "base_uri": "https://localhost:8080/"
        },
        "id": "GewNhNH-0Aa4",
        "outputId": "0a55cf67-074f-4a96-f3d0-d699be426523"
      },
      "outputs": [
        {
          "output_type": "stream",
          "name": "stdout",
          "text": [
            "2.15.0\n"
          ]
        }
      ],
      "source": [
        " # Import libraries\n",
        "\n",
        "import tensorflow as tf\n",
        "\n",
        "print(tf.__version__)"
      ]
    },
    {
      "cell_type": "markdown",
      "source": [
        "## Creating tensors with tf.constant()"
      ],
      "metadata": {
        "id": "9T7qdcCo1nAv"
      }
    },
    {
      "cell_type": "markdown",
      "source": [
        "A Scalar is a single Number"
      ],
      "metadata": {
        "id": "127jS8NV5H9B"
      }
    },
    {
      "cell_type": "code",
      "source": [
        "scalar = tf.constant(7)\n",
        "scalar"
      ],
      "metadata": {
        "colab": {
          "base_uri": "https://localhost:8080/"
        },
        "id": "YbXficEK1sgd",
        "outputId": "905550d5-5c63-43b5-8f8c-d0d9fbe372bd"
      },
      "execution_count": 2,
      "outputs": [
        {
          "output_type": "execute_result",
          "data": {
            "text/plain": [
              "<tf.Tensor: shape=(), dtype=int32, numpy=7>"
            ]
          },
          "metadata": {},
          "execution_count": 2
        }
      ]
    },
    {
      "cell_type": "code",
      "source": [
        "# Check the number of dimensions of a tensor\n",
        "scalar.ndim"
      ],
      "metadata": {
        "colab": {
          "base_uri": "https://localhost:8080/"
        },
        "id": "owcgsitF2Hud",
        "outputId": "8b773e0b-5515-42d3-945e-ecfa35337af9"
      },
      "execution_count": 3,
      "outputs": [
        {
          "output_type": "execute_result",
          "data": {
            "text/plain": [
              "0"
            ]
          },
          "metadata": {},
          "execution_count": 3
        }
      ]
    },
    {
      "cell_type": "markdown",
      "source": [
        "A vector is a number with direction (e.g wind speed and direction)"
      ],
      "metadata": {
        "id": "OyAvqXYk5MRS"
      }
    },
    {
      "cell_type": "code",
      "source": [
        "# Create a vector\n",
        "vector = tf.constant([10,\n",
        "                      10])\n",
        "vector"
      ],
      "metadata": {
        "colab": {
          "base_uri": "https://localhost:8080/"
        },
        "id": "fHXjMdle2PlK",
        "outputId": "70a2fb95-1446-4ec4-89c9-59e79bff7ded"
      },
      "execution_count": 4,
      "outputs": [
        {
          "output_type": "execute_result",
          "data": {
            "text/plain": [
              "<tf.Tensor: shape=(2,), dtype=int32, numpy=array([10, 10], dtype=int32)>"
            ]
          },
          "metadata": {},
          "execution_count": 4
        }
      ]
    },
    {
      "cell_type": "code",
      "source": [
        "# Check Dimension of a vector\n",
        "vector.ndim"
      ],
      "metadata": {
        "colab": {
          "base_uri": "https://localhost:8080/"
        },
        "id": "a7Uirxfu2deJ",
        "outputId": "9f80e754-3e53-4164-9cc6-f61ecf0e013c"
      },
      "execution_count": 5,
      "outputs": [
        {
          "output_type": "execute_result",
          "data": {
            "text/plain": [
              "1"
            ]
          },
          "metadata": {},
          "execution_count": 5
        }
      ]
    },
    {
      "cell_type": "markdown",
      "source": [
        "A matrix is a 2-dimensional array of numbers"
      ],
      "metadata": {
        "id": "2TsqVgsG5Ute"
      }
    },
    {
      "cell_type": "code",
      "source": [
        "# Create a matrix\n",
        "matrix = tf.constant([[10, 7],\n",
        "                      [7, 10]])\n",
        "\n",
        "matrix"
      ],
      "metadata": {
        "colab": {
          "base_uri": "https://localhost:8080/"
        },
        "id": "_dApVhmi2kix",
        "outputId": "12030841-aad7-4dae-f07e-02ac0e471a96"
      },
      "execution_count": 6,
      "outputs": [
        {
          "output_type": "execute_result",
          "data": {
            "text/plain": [
              "<tf.Tensor: shape=(2, 2), dtype=int32, numpy=\n",
              "array([[10,  7],\n",
              "       [ 7, 10]], dtype=int32)>"
            ]
          },
          "metadata": {},
          "execution_count": 6
        }
      ]
    },
    {
      "cell_type": "code",
      "source": [
        "# Check Dimension of matrix\n",
        "matrix.ndim"
      ],
      "metadata": {
        "colab": {
          "base_uri": "https://localhost:8080/"
        },
        "id": "TRqCypA52uoA",
        "outputId": "efda5d94-5963-4882-c43f-7ec289683cd7"
      },
      "execution_count": 7,
      "outputs": [
        {
          "output_type": "execute_result",
          "data": {
            "text/plain": [
              "2"
            ]
          },
          "metadata": {},
          "execution_count": 7
        }
      ]
    },
    {
      "cell_type": "code",
      "source": [
        "# Create another matrix\n",
        "\n",
        "another_matrix = tf.constant([[2, 5],\n",
        "                              [4, 5],\n",
        "                              [5, 2]], dtype=tf.float16)\n",
        "\n",
        "another_matrix"
      ],
      "metadata": {
        "colab": {
          "base_uri": "https://localhost:8080/"
        },
        "id": "WyC8nsA-29E7",
        "outputId": "cd21068c-74c4-45f2-c846-1343cae74ac8"
      },
      "execution_count": 10,
      "outputs": [
        {
          "output_type": "execute_result",
          "data": {
            "text/plain": [
              "<tf.Tensor: shape=(3, 2), dtype=float16, numpy=\n",
              "array([[2., 5.],\n",
              "       [4., 5.],\n",
              "       [5., 2.]], dtype=float16)>"
            ]
          },
          "metadata": {},
          "execution_count": 10
        }
      ]
    },
    {
      "cell_type": "code",
      "source": [
        "# Check Dimension\n",
        "another_matrix.ndim"
      ],
      "metadata": {
        "colab": {
          "base_uri": "https://localhost:8080/"
        },
        "id": "Elz1Z2Rp3uFk",
        "outputId": "934c5c27-313a-4cab-ceec-e17dcdc95118"
      },
      "execution_count": 11,
      "outputs": [
        {
          "output_type": "execute_result",
          "data": {
            "text/plain": [
              "2"
            ]
          },
          "metadata": {},
          "execution_count": 11
        }
      ]
    },
    {
      "cell_type": "markdown",
      "source": [
        "A Tensor is an n dimensional array of numbers where n can be any number.\n",
        "\n",
        "- n = 0: Scalar\n",
        "\n",
        "- n = 1: Vector\n",
        "\n",
        "- n = 2: Matrix\n",
        "\n",
        "- n >= 3: 3 to n dimensional array"
      ],
      "metadata": {
        "id": "WJooQw855hIG"
      }
    },
    {
      "cell_type": "code",
      "source": [
        "# Let's create a tensor\n",
        "\n",
        "tensor = tf.constant([[[1, 3, 5, 6],\n",
        "                       [6, 8, 4, 7]],\n",
        "                       [[6, 0, 4, 7],\n",
        "                       [6, 8, 0, 7]],\n",
        "                       [[8, 3, 5, 3],\n",
        "                        [9, 7, 4, 2]]])\n",
        "\n",
        "tensor"
      ],
      "metadata": {
        "colab": {
          "base_uri": "https://localhost:8080/"
        },
        "id": "oYa95rzL3_nU",
        "outputId": "204ae825-3f31-4857-cb48-d760269dc931"
      },
      "execution_count": 15,
      "outputs": [
        {
          "output_type": "execute_result",
          "data": {
            "text/plain": [
              "<tf.Tensor: shape=(3, 2, 4), dtype=int32, numpy=\n",
              "array([[[1, 3, 5, 6],\n",
              "        [6, 8, 4, 7]],\n",
              "\n",
              "       [[6, 0, 4, 7],\n",
              "        [6, 8, 0, 7]],\n",
              "\n",
              "       [[8, 3, 5, 3],\n",
              "        [9, 7, 4, 2]]], dtype=int32)>"
            ]
          },
          "metadata": {},
          "execution_count": 15
        }
      ]
    },
    {
      "cell_type": "code",
      "source": [
        "tensor.ndim"
      ],
      "metadata": {
        "colab": {
          "base_uri": "https://localhost:8080/"
        },
        "id": "IBWgnlQ2432S",
        "outputId": "ec367d83-6941-46f3-dca3-f9c17f0898f0"
      },
      "execution_count": 14,
      "outputs": [
        {
          "output_type": "execute_result",
          "data": {
            "text/plain": [
              "3"
            ]
          },
          "metadata": {},
          "execution_count": 14
        }
      ]
    }
  ]
}