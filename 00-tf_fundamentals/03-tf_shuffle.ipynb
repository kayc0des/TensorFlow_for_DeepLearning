{
 "cells": [
  {
   "cell_type": "markdown",
   "metadata": {},
   "source": [
    "# Shuffling Tensors\n",
    "\n",
    "Shuffling a tensor is necessary when trying to unorder a dataset to help the model learn patterns from varied examples. Take for example a dataset with 15,0000 rows or examples and the first 10,000 examples  relate to `ramen` and the last 5,000 examples relat to `spaghetti`, Training a model with this order will not yield favorable results with the model learning ramen patterns more than spaghetti.\n",
    "\n",
    "**tf.random.shuffle**"
   ]
  },
  {
   "cell_type": "code",
   "execution_count": 2,
   "metadata": {},
   "outputs": [
    {
     "name": "stderr",
     "output_type": "stream",
     "text": [
      "2024-07-03 12:58:23.973047: I tensorflow/core/platform/cpu_feature_guard.cc:210] This TensorFlow binary is optimized to use available CPU instructions in performance-critical operations.\n",
      "To enable the following instructions: AVX2 FMA, in other operations, rebuild TensorFlow with the appropriate compiler flags.\n"
     ]
    },
    {
     "data": {
      "text/plain": [
       "<tf.Tensor: shape=(4, 3), dtype=float32, numpy=\n",
       "array([[-0.7565803 , -0.06854702,  0.07595026],\n",
       "       [-1.2573844 , -0.23193763, -1.8107855 ],\n",
       "       [ 0.09988727, -0.50998646, -0.7535805 ],\n",
       "       [-0.57166284,  0.1480774 , -0.23362993]], dtype=float32)>"
      ]
     },
     "execution_count": 2,
     "metadata": {},
     "output_type": "execute_result"
    }
   ],
   "source": [
    "import tensorflow as tf\n",
    "\n",
    "# first we will create a random tensor\n",
    "generator = tf.random.Generator.from_seed(42)\n",
    "data = generator.normal(shape=(4, 3))\n",
    "\n",
    "data"
   ]
  },
  {
   "cell_type": "markdown",
   "metadata": {},
   "source": [
    "## Shuffle data"
   ]
  },
  {
   "cell_type": "code",
   "execution_count": 3,
   "metadata": {},
   "outputs": [
    {
     "data": {
      "text/plain": [
       "<tf.Tensor: shape=(4, 3), dtype=float32, numpy=\n",
       "array([[-1.2573844 , -0.23193763, -1.8107855 ],\n",
       "       [-0.7565803 , -0.06854702,  0.07595026],\n",
       "       [ 0.09988727, -0.50998646, -0.7535805 ],\n",
       "       [-0.57166284,  0.1480774 , -0.23362993]], dtype=float32)>"
      ]
     },
     "execution_count": 3,
     "metadata": {},
     "output_type": "execute_result"
    }
   ],
   "source": [
    "# shuffle the tensor using tf.random.shuffle()\n",
    "shuffled_data = tf.random.shuffle(data, seed=None, name=None)\n",
    "\n",
    "shuffled_data"
   ]
  },
  {
   "cell_type": "markdown",
   "metadata": {},
   "source": [
    "### Understanding the seed argument passed to tf.random.shuffle()"
   ]
  },
  {
   "cell_type": "code",
   "execution_count": 10,
   "metadata": {},
   "outputs": [
    {
     "data": {
      "text/plain": [
       "<tf.Tensor: shape=(4, 3), dtype=float32, numpy=\n",
       "array([[-0.57166284,  0.1480774 , -0.23362993],\n",
       "       [-0.7565803 , -0.06854702,  0.07595026],\n",
       "       [-1.2573844 , -0.23193763, -1.8107855 ],\n",
       "       [ 0.09988727, -0.50998646, -0.7535805 ]], dtype=float32)>"
      ]
     },
     "execution_count": 10,
     "metadata": {},
     "output_type": "execute_result"
    }
   ],
   "source": [
    "seed = tf.random.set_seed(42)\n",
    "\n",
    "# shuffled_data_seed = tf.random.shuffle(data, seed=42)\n",
    "\n",
    "shuffled_data_seed = tf.random.shuffle(data, seed=seed)\n",
    "\n",
    "shuffled_data_seed"
   ]
  },
  {
   "cell_type": "markdown",
   "metadata": {},
   "source": [
    "> Rule 4: If we want out shuffled tensors to be in the same order, we have to use the global level random seed as well as the operation level seed"
   ]
  }
 ],
 "metadata": {
  "kernelspec": {
   "display_name": "Python 3",
   "language": "python",
   "name": "python3"
  },
  "language_info": {
   "codemirror_mode": {
    "name": "ipython",
    "version": 3
   },
   "file_extension": ".py",
   "mimetype": "text/x-python",
   "name": "python",
   "nbconvert_exporter": "python",
   "pygments_lexer": "ipython3",
   "version": "3.12.3"
  }
 },
 "nbformat": 4,
 "nbformat_minor": 2
}
