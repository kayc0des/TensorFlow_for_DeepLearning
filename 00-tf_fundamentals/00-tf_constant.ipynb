{
  "cells": [
    {
      "cell_type": "markdown",
      "metadata": {
        "colab_type": "text",
        "id": "view-in-github"
      },
      "source": [
        "<a href=\"https://colab.research.google.com/github/kayc0des/TensorFlow_for_DeepLearning/blob/main/00-tf_fundamentals%20/00_tensors.ipynb\" target=\"_parent\"><img src=\"https://colab.research.google.com/assets/colab-badge.svg\" alt=\"Open In Colab\"/></a>"
      ]
    },
    {
      "cell_type": "markdown",
      "metadata": {
        "id": "h3NIgJN-1Mzu"
      },
      "source": [
        "# Introduction to Tensors\n",
        "\n",
        "In this notebook we will be creating tensors using TensorFlow's tf.constant function.\n",
        "\n",
        "- tf.constant(): Creates a constant tensor from a tensor-like object.\n",
        "\n",
        "[Documentation](https://www.tensorflow.org/api_docs/python/tf/constant)"
      ]
    },
    {
      "cell_type": "code",
      "execution_count": 1,
      "metadata": {
        "colab": {
          "base_uri": "https://localhost:8080/"
        },
        "id": "GewNhNH-0Aa4",
        "outputId": "0a55cf67-074f-4a96-f3d0-d699be426523"
      },
      "outputs": [
        {
          "name": "stdout",
          "output_type": "stream",
          "text": [
            "2.15.0\n"
          ]
        }
      ],
      "source": [
        " # Import libraries\n",
        "\n",
        "import tensorflow as tf\n",
        "\n",
        "print(tf.__version__)"
      ]
    },
    {
      "cell_type": "markdown",
      "metadata": {
        "id": "9T7qdcCo1nAv"
      },
      "source": [
        "## Creating tensors with tf.constant()"
      ]
    },
    {
      "cell_type": "markdown",
      "metadata": {
        "id": "127jS8NV5H9B"
      },
      "source": [
        "A Scalar is a single Number"
      ]
    },
    {
      "cell_type": "code",
      "execution_count": 2,
      "metadata": {
        "colab": {
          "base_uri": "https://localhost:8080/"
        },
        "id": "YbXficEK1sgd",
        "outputId": "905550d5-5c63-43b5-8f8c-d0d9fbe372bd"
      },
      "outputs": [
        {
          "data": {
            "text/plain": [
              "<tf.Tensor: shape=(), dtype=int32, numpy=7>"
            ]
          },
          "execution_count": 2,
          "metadata": {},
          "output_type": "execute_result"
        }
      ],
      "source": [
        "scalar = tf.constant(7)\n",
        "scalar"
      ]
    },
    {
      "cell_type": "code",
      "execution_count": 3,
      "metadata": {
        "colab": {
          "base_uri": "https://localhost:8080/"
        },
        "id": "owcgsitF2Hud",
        "outputId": "8b773e0b-5515-42d3-945e-ecfa35337af9"
      },
      "outputs": [
        {
          "data": {
            "text/plain": [
              "0"
            ]
          },
          "execution_count": 3,
          "metadata": {},
          "output_type": "execute_result"
        }
      ],
      "source": [
        "# Check the number of dimensions of a tensor\n",
        "scalar.ndim"
      ]
    },
    {
      "cell_type": "markdown",
      "metadata": {
        "id": "OyAvqXYk5MRS"
      },
      "source": [
        "A vector is a number with direction (e.g wind speed and direction)"
      ]
    },
    {
      "cell_type": "code",
      "execution_count": 4,
      "metadata": {
        "colab": {
          "base_uri": "https://localhost:8080/"
        },
        "id": "fHXjMdle2PlK",
        "outputId": "70a2fb95-1446-4ec4-89c9-59e79bff7ded"
      },
      "outputs": [
        {
          "data": {
            "text/plain": [
              "<tf.Tensor: shape=(2,), dtype=int32, numpy=array([10, 10], dtype=int32)>"
            ]
          },
          "execution_count": 4,
          "metadata": {},
          "output_type": "execute_result"
        }
      ],
      "source": [
        "# Create a vector\n",
        "vector = tf.constant([10,\n",
        "                      10])\n",
        "vector"
      ]
    },
    {
      "cell_type": "code",
      "execution_count": 5,
      "metadata": {
        "colab": {
          "base_uri": "https://localhost:8080/"
        },
        "id": "a7Uirxfu2deJ",
        "outputId": "9f80e754-3e53-4164-9cc6-f61ecf0e013c"
      },
      "outputs": [
        {
          "data": {
            "text/plain": [
              "1"
            ]
          },
          "execution_count": 5,
          "metadata": {},
          "output_type": "execute_result"
        }
      ],
      "source": [
        "# Check Dimension of a vector\n",
        "vector.ndim"
      ]
    },
    {
      "cell_type": "markdown",
      "metadata": {
        "id": "2TsqVgsG5Ute"
      },
      "source": [
        "A matrix is a 2-dimensional array of numbers"
      ]
    },
    {
      "cell_type": "code",
      "execution_count": 6,
      "metadata": {
        "colab": {
          "base_uri": "https://localhost:8080/"
        },
        "id": "_dApVhmi2kix",
        "outputId": "12030841-aad7-4dae-f07e-02ac0e471a96"
      },
      "outputs": [
        {
          "data": {
            "text/plain": [
              "<tf.Tensor: shape=(2, 2), dtype=int32, numpy=\n",
              "array([[10,  7],\n",
              "       [ 7, 10]], dtype=int32)>"
            ]
          },
          "execution_count": 6,
          "metadata": {},
          "output_type": "execute_result"
        }
      ],
      "source": [
        "# Create a matrix\n",
        "matrix = tf.constant([[10, 7],\n",
        "                      [7, 10]])\n",
        "\n",
        "matrix"
      ]
    },
    {
      "cell_type": "code",
      "execution_count": 7,
      "metadata": {
        "colab": {
          "base_uri": "https://localhost:8080/"
        },
        "id": "TRqCypA52uoA",
        "outputId": "efda5d94-5963-4882-c43f-7ec289683cd7"
      },
      "outputs": [
        {
          "data": {
            "text/plain": [
              "2"
            ]
          },
          "execution_count": 7,
          "metadata": {},
          "output_type": "execute_result"
        }
      ],
      "source": [
        "# Check Dimension of matrix\n",
        "matrix.ndim"
      ]
    },
    {
      "cell_type": "code",
      "execution_count": 10,
      "metadata": {
        "colab": {
          "base_uri": "https://localhost:8080/"
        },
        "id": "WyC8nsA-29E7",
        "outputId": "cd21068c-74c4-45f2-c846-1343cae74ac8"
      },
      "outputs": [
        {
          "data": {
            "text/plain": [
              "<tf.Tensor: shape=(3, 2), dtype=float16, numpy=\n",
              "array([[2., 5.],\n",
              "       [4., 5.],\n",
              "       [5., 2.]], dtype=float16)>"
            ]
          },
          "execution_count": 10,
          "metadata": {},
          "output_type": "execute_result"
        }
      ],
      "source": [
        "# Create another matrix\n",
        "\n",
        "another_matrix = tf.constant([[2, 5],\n",
        "                              [4, 5],\n",
        "                              [5, 2]], dtype=tf.float16)\n",
        "\n",
        "another_matrix"
      ]
    },
    {
      "cell_type": "code",
      "execution_count": 11,
      "metadata": {
        "colab": {
          "base_uri": "https://localhost:8080/"
        },
        "id": "Elz1Z2Rp3uFk",
        "outputId": "934c5c27-313a-4cab-ceec-e17dcdc95118"
      },
      "outputs": [
        {
          "data": {
            "text/plain": [
              "2"
            ]
          },
          "execution_count": 11,
          "metadata": {},
          "output_type": "execute_result"
        }
      ],
      "source": [
        "# Check Dimension\n",
        "another_matrix.ndim"
      ]
    },
    {
      "cell_type": "markdown",
      "metadata": {
        "id": "WJooQw855hIG"
      },
      "source": [
        "A Tensor is an n dimensional array of numbers where n can be any number.\n",
        "\n",
        "- n = 0: Scalar\n",
        "\n",
        "- n = 1: Vector\n",
        "\n",
        "- n = 2: Matrix\n",
        "\n",
        "- n >= 3: 3 to n dimensional array"
      ]
    },
    {
      "cell_type": "code",
      "execution_count": 15,
      "metadata": {
        "colab": {
          "base_uri": "https://localhost:8080/"
        },
        "id": "oYa95rzL3_nU",
        "outputId": "204ae825-3f31-4857-cb48-d760269dc931"
      },
      "outputs": [
        {
          "data": {
            "text/plain": [
              "<tf.Tensor: shape=(3, 2, 4), dtype=int32, numpy=\n",
              "array([[[1, 3, 5, 6],\n",
              "        [6, 8, 4, 7]],\n",
              "\n",
              "       [[6, 0, 4, 7],\n",
              "        [6, 8, 0, 7]],\n",
              "\n",
              "       [[8, 3, 5, 3],\n",
              "        [9, 7, 4, 2]]], dtype=int32)>"
            ]
          },
          "execution_count": 15,
          "metadata": {},
          "output_type": "execute_result"
        }
      ],
      "source": [
        "# Let's create a tensor\n",
        "\n",
        "tensor = tf.constant([[[1, 3, 5, 6],\n",
        "                       [6, 8, 4, 7]],\n",
        "                       [[6, 0, 4, 7],\n",
        "                       [6, 8, 0, 7]],\n",
        "                       [[8, 3, 5, 3],\n",
        "                        [9, 7, 4, 2]]])\n",
        "\n",
        "tensor"
      ]
    },
    {
      "cell_type": "code",
      "execution_count": 14,
      "metadata": {
        "colab": {
          "base_uri": "https://localhost:8080/"
        },
        "id": "IBWgnlQ2432S",
        "outputId": "ec367d83-6941-46f3-dca3-f9c17f0898f0"
      },
      "outputs": [
        {
          "data": {
            "text/plain": [
              "3"
            ]
          },
          "execution_count": 14,
          "metadata": {},
          "output_type": "execute_result"
        }
      ],
      "source": [
        "tensor.ndim"
      ]
    }
  ],
  "metadata": {
    "colab": {
      "authorship_tag": "ABX9TyPWBAeewzD88qUodc9T0S9W",
      "include_colab_link": true,
      "provenance": []
    },
    "kernelspec": {
      "display_name": "Python 3",
      "name": "python3"
    },
    "language_info": {
      "name": "python",
      "version": "3.12.3"
    }
  },
  "nbformat": 4,
  "nbformat_minor": 0
}
